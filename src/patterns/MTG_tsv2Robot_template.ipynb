{
 "cells": [
  {
   "cell_type": "code",
   "execution_count": 113,
   "metadata": {},
   "outputs": [],
   "source": [
    "import pandas as pd\n",
    "\n",
    "table_seed = [ {'ID': 'ID', \n",
    "                'CLASS_TYPE': 'CLASS_TYPE', \n",
    "                'label': 'A rdfs:label', \n",
    "                'Genus': 'C %', \n",
    "                'neuron_region1': \"C 'has soma location' some %\",\n",
    "                'neuron_region2': \"C 'has soma location' some %\",\n",
    "                'glia_region1': \"C 'part of' some %\",\n",
    "                'glia_region2': \"C 'part of' some %\",\n",
    "                'endothelial_region1': \"C 'located in' some %\",\n",
    "                'endothelial_region1': \"C 'located in' some %\",               \n",
    "                'Marker1': \"C expresses some %\",\n",
    "                'Marker2': \"C expresses some %\",\n",
    "                'Marker3': \"C expresses some %\",\n",
    "                'Marker4': \"C expresses some %\"\n",
    "               }]  # add in some part of tags\n",
    "\n",
    "eq_tab = pd.DataFrame.from_records(table_seed)\n",
    "sub_tab = pd.DataFrame.from_records(table_seed)\n",
    "marker_tab = pd.DataFrame.from_records([{'ID': 'ID',\n",
    "                                         'CLASS_TYPE': 'CLASS_TYPE',\n",
    "                                         'label': 'A rdfs:label', \n",
    "                                         'Genus': 'C %'}])"
   ]
  },
  {
   "cell_type": "code",
   "execution_count": 114,
   "metadata": {},
   "outputs": [
    {
     "data": {
      "text/plain": [
       "Index(['pCL_id (or CL_id)', 'pCL_name (or CL_name)',\n",
       "       'transcriptome data cluster', 'TDC_id', 'part_of (uberon_id)',\n",
       "       'Species_source', 'Species_ID', 'part_of (uberon_name)',\n",
       "       'has_predicted_soma_location_in', 'is_a (CL or pCL_id)',\n",
       "       'is_a (CL or pCL_name)', 'cluster_size (number of cells)',\n",
       "       'marker_gene_evidence', 'f-measure_evidence', 'selectively_expresses.1',\n",
       "       'selectively_expresses.2', 'selectively_expresses.3',\n",
       "       'selectively_expresses.4', 'neuron_type'],\n",
       "      dtype='object')"
      ]
     },
     "execution_count": 114,
     "metadata": {},
     "output_type": "execute_result"
    }
   ],
   "source": [
    "import numpy as np\n",
    "mtg = pd.read_csv(\"./MTG.tsv\", sep='\\t')\n",
    "mtg.replace(np.nan, '', regex=True, inplace=True)\n",
    "mtg.columns\n"
   ]
  },
  {
   "cell_type": "code",
   "execution_count": 5,
   "metadata": {},
   "outputs": [
    {
     "data": {
      "text/plain": [
       "0    FBXL7-expressing human cerebral cortex MTG GAB...\n",
       "1    FBXL7-expressing human cerebral cortex MTG GAB...\n",
       "2    FBXL7-expressing human cerebral cortex MTG GAB...\n",
       "3    FBXL7-expressing human cerebral cortex MTG GAB...\n",
       "4    FBXL7-expressing human cerebral cortex MTG GAB...\n",
       "5    FBXL7-expressing human cerebral cortex MTG GAB...\n",
       "6    FBXL7-expressing human cerebral cortex MTG GAB...\n",
       "7    FBXL7-expressing human cerebral cortex MTG GAB...\n",
       "8    FBXL7-expressing human cerebral cortex MTG GAB...\n",
       "Name: is_a (CL or pCL_name), dtype: object"
      ]
     },
     "execution_count": 5,
     "metadata": {},
     "output_type": "execute_result"
    }
   ],
   "source": [
    "mtg['is_a (CL or pCL_name)'][0:9]\n"
   ]
  },
  {
   "cell_type": "markdown",
   "metadata": {},
   "source": [
    "### Strategy\n",
    "\n",
    "#### is_a \n",
    "If 'is_a (CL or pCL_name)' contains a CL ID use that.\n",
    "Otherwise use 'neuron type' column:\n",
    "GABAergic = CL_\n",
    "Glutamatergic = CL_\n",
    "(don't bother with denormalising NT)\n",
    "\n",
    "#### tissue \n",
    "Use 'part_of (uberon_id)' + generic cortex term.\n",
    "use has_soma_location -> middle temporal gyrus for all neurons\n",
    "use part_of for all glial cells\n",
    "use located in for the one endothelial cell\n",
    "\n",
    "#### Expression\n",
    "selectively_expresses\n",
    "TGFBR2|HGNC_11773\n",
    "parse out id & name -> new class.  Note - in some cases we will have no HGNC.\n"
   ]
  },
  {
   "cell_type": "code",
   "execution_count": 115,
   "metadata": {},
   "outputs": [
    {
     "data": {
      "text/plain": [
       "Index(['CLASS_TYPE', 'Genus', 'ID', 'Marker1', 'Marker2', 'Marker3', 'Marker4',\n",
       "       'endothelial_region_1', 'glia_region_1', 'glia_region_2', 'label',\n",
       "       'neuron_region1', 'neuron_region2'],\n",
       "      dtype='object')"
      ]
     },
     "execution_count": 115,
     "metadata": {},
     "output_type": "execute_result"
    }
   ],
   "source": [
    "row1 = mtg.iloc[0]['is_a (CL or pCL_id)']\n",
    "fu = re.match('CL_(\\d+)', mtg.iloc[0]['is_a (CL or pCL_id)'])\n",
    "\n",
    "df.columns\n"
   ]
  },
  {
   "cell_type": "code",
   "execution_count": 142,
   "metadata": {},
   "outputs": [],
   "source": [
    "import re\n",
    "from numpy import nan\n",
    "\n",
    "def preproc(x):\n",
    "    ### Strip leading and trailing spaces + convert nan to empty string \n",
    "    if x == nan:\n",
    "        x = ''\n",
    "    return(x.strip())\n",
    "\n",
    "def proc_isa(r, typ):\n",
    "    isa_id = r['is_a (CL or pCL_id)'].strip()\n",
    "    ia = re.match('CL_(\\d+)', isa_id)\n",
    "    if ia:\n",
    "        return \"CL:\" + ia.group(1)\n",
    "    ### only defaulting to general class for eq if neuron\n",
    "    elif (typ == 'e') and (r['neuron_type'] == 'GABAergic'):\n",
    "        return \"CL:0010011\"\n",
    "    elif (typ == 'e') and (r['neuron_type'] =='Glutamatergic'):\n",
    "        return \"CL:0000679\"\n",
    "    else:\n",
    "        return 'http://www.jcvi.org/cl_ext/mtg_cluster/' + isa_id\n",
    "    \n",
    "    \n",
    "def proc_po(isa, r):\n",
    "    out = {}\n",
    "    # if neuron\n",
    "    if isa in ['CL:0010011', 'CL:0000679']:\n",
    "        out['neuron_region1'] = 'UBERON:0002771'\n",
    "        out['neuron_region2'] = 'UBERON:0000956' # Cortex\n",
    "    # elif endothelial        \n",
    "    elif isa == 'CL:1001602':\n",
    "        out['endothelial_region1'] = 'UBERON:0002771'\n",
    "        out['endothelial_region2'] = 'UBERON:0000956'\n",
    "    else:\n",
    "        out['glia_region1'] = 'UBERON:0002771'\n",
    "        out['glia_region2'] = 'UBERON:0000956'\n",
    "    return out\n",
    "\n",
    "def proc_marker(m):\n",
    "    s = m.split('|')\n",
    "    # Assumes that if split by a '|', the second item will be an HGNC ID !\n",
    "    if len(s) == 2:\n",
    "        match = re.match(\"HGNC_(.+)\", s[1])\n",
    "        if match:\n",
    "            return { 'iri': \"http://identifiers.org/hgnc/HGNC:\" + match.group(1), 'name' : s[0] }\n",
    "    elif m:\n",
    "        return { 'iri': \"http://identifiers.org/genecards/\" + m, 'name' : '' }\n",
    "    else:\n",
    "        return { 'iri': '', 'name': '' }\n",
    "     \n",
    "def proc_markers(r):\n",
    "    out = []\n",
    "    markers = [r['selectively_expresses.1'],  r['selectively_expresses.2'], r['selectively_expresses.3']]\n",
    "    for m in markers:\n",
    "        out.append(proc_marker(m))\n",
    "    return out\n",
    "    "
   ]
  },
  {
   "cell_type": "code",
   "execution_count": 144,
   "metadata": {},
   "outputs": [
    {
     "name": "stdout",
     "output_type": "stream",
     "text": [
      "Index(['pCL_id (or CL_id)', 'pCL_name (or CL_name)',\n",
      "       'transcriptome data cluster', 'TDC_id', 'part_of (uberon_id)',\n",
      "       'Species_source', 'Species_ID', 'part_of (uberon_name)',\n",
      "       'has_predicted_soma_location_in', 'is_a (CL or pCL_id)',\n",
      "       'is_a (CL or pCL_name)', 'cluster_size (number of cells)',\n",
      "       'marker_gene_evidence', 'f-measure_evidence', 'selectively_expresses.1',\n",
      "       'selectively_expresses.2', 'selectively_expresses.3',\n",
      "       'selectively_expresses.4', 'neuron_type'],\n",
      "      dtype='object')\n",
      "pCL1\n",
      "CL:0010011\n",
      "http://www.jcvi.org/cl_ext/mtg_cluster/pCL78\n"
     ]
    }
   ],
   "source": [
    "## Tests\n",
    "print(mtg.columns)\n",
    "r = mtg.iloc[0]\n",
    "print(r['pCL_id (or CL_id)'])\n",
    "print(proc_isa(r, typ='e'))\n",
    "print(proc_isa(r, typ='s'))\n"
   ]
  },
  {
   "cell_type": "code",
   "execution_count": 147,
   "metadata": {},
   "outputs": [],
   "source": [
    "# Currently uses pd.DataFrame.from_records(list) to populate, \n",
    "# but this has the danger that new columns can easily be added\n",
    "# by accident/typo.  Better to switch to adding directly?\n",
    "\n",
    "el = []\n",
    "sl = []\n",
    "ml = []\n",
    "\n",
    "def make_tsv(dl, filename):\n",
    "    robot_template = eq_tab.append(pd.DataFrame.from_records(dl))\n",
    "    robot_template.replace(np.nan, '', regex=True, inplace=True)\n",
    "    robot_template.drop_duplicates(inplace=True)\n",
    "    robot_template.to_csv(filename, sep='\\t', index=False)    \n",
    "\n",
    "for i, r in mtg.iterrows():\n",
    "    trow = {}\n",
    "    erow = {}\n",
    "    srow = {}\n",
    "    mrow = {}\n",
    "    erow['CLASS_TYPE'] = 'equivalent'\n",
    "    srow['CLASS_TYPE'] = 'subclass'\n",
    "    trow['ID'] = 'http://www.jcvi.org/cl_ext/mtg_cluster/' + r['pCL_id (or CL_id)']\n",
    "    trow['label'] = r['pCL_name (or CL_name)']\n",
    "    erow['Genus'] = proc_isa(r, typ = 'e')\n",
    "    srow['Genus'] = proc_isa(r, typ = 's')\n",
    "    markers = proc_markers(r)\n",
    "    i = 1\n",
    "    for m in markers:\n",
    "        if m['iri']:\n",
    "            trow['Marker' + str(i)] = m['iri']\n",
    "            i += 1\n",
    "            if m['name']:\n",
    "                mrow['ID'] = m['iri']\n",
    "                mrow['label'] = m['name']\n",
    "    trow.update(proc_po(isa=erow['Genus'], r=r))\n",
    "    erow.update(trow)\n",
    "    srow.update(trow)\n",
    "    el.append(erow)\n",
    "    sl.append(srow)\n",
    "    if mrow: ml.append(mrow)\n",
    "        \n",
    "    \n",
    "make_tsv(el, 'mtg_equivalent.tsv')\n",
    "make_tsv(sl, 'mtg_subclass.tsv')\n",
    "make_tsv(ml, 'markers.tsv')\n",
    "\n",
    "    \n",
    "\n",
    "\n",
    "    \n",
    "\n",
    "    \n",
    "    \n",
    "\n",
    "    "
   ]
  },
  {
   "cell_type": "code",
   "execution_count": 136,
   "metadata": {},
   "outputs": [
    {
     "name": "stdout",
     "output_type": "stream",
     "text": [
      "\"http://www.jcvi.org/cl_ext/mtg_cluster/pCL85\"\n"
     ]
    }
   ],
   "source": [
    "print('\"'+robot_template.iloc[73]['Genus']+'\"')\n"
   ]
  },
  {
   "cell_type": "code",
   "execution_count": null,
   "metadata": {},
   "outputs": [],
   "source": []
  }
 ],
 "metadata": {
  "kernelspec": {
   "display_name": "Python 3",
   "language": "python",
   "name": "python3"
  },
  "language_info": {
   "codemirror_mode": {
    "name": "ipython",
    "version": 3
   },
   "file_extension": ".py",
   "mimetype": "text/x-python",
   "name": "python",
   "nbconvert_exporter": "python",
   "pygments_lexer": "ipython3",
   "version": "3.7.0"
  }
 },
 "nbformat": 4,
 "nbformat_minor": 2
}
